{
 "cells": [
  {
   "cell_type": "markdown",
   "id": "24830b4e-4fd9-40c7-ab99-0759678eeaae",
   "metadata": {},
   "source": [
    "# Data Sceience Tools and Ecosystem"
   ]
  },
  {
   "cell_type": "markdown",
   "id": "e1cd921a-256f-4a0f-9288-78f3dafd270c",
   "metadata": {},
   "source": [
    "In this notebook, Data Science Tools adn Ecoysytems are summarized."
   ]
  },
  {
   "cell_type": "markdown",
   "id": "322bc238-a342-461c-8437-3f06e9ed9d9f",
   "metadata": {},
   "source": [
    "**Objectives:**\n",
    "- List popular languages in Data Science\n",
    "- List languages languages in Data Science\n",
    "- List popular tools in Data Science in a table\n",
    "- Multiply 3 by 4 then plus 5\n",
    "- Calculate 200 divided by 60"
   ]
  },
  {
   "cell_type": "markdown",
   "id": "fbae4092-6c0e-450e-8157-96b97bdd0a04",
   "metadata": {},
   "source": [
    "Some of the popular languages that Data Scientists use are:\n",
    "1. Python\n",
    "2. SQL\n",
    "3. R"
   ]
  },
  {
   "cell_type": "markdown",
   "id": "5d6c640e-9ef3-49d2-b170-5e7be3f401f6",
   "metadata": {},
   "source": [
    "Some of the commonly used libraries used by Data Scientist include:\n",
    "1. Pandas\n",
    "2. Numpy\n",
    "3. Matplotlib"
   ]
  },
  {
   "cell_type": "markdown",
   "id": "5174fb1d-199d-4ed7-b3b2-aace7238b34b",
   "metadata": {},
   "source": [
    "| Data Science Tools |\n",
    ":---------:\n",
    "| Hadoop |\n",
    "| Spark |\n",
    "| KNIME |"
   ]
  },
  {
   "cell_type": "markdown",
   "id": "068cf85d-b9ea-44ee-8bff-a212dd7b76eb",
   "metadata": {},
   "source": [
    "### Below are examples of evaluating arithmetic expressions in Python"
   ]
  },
  {
   "cell_type": "markdown",
   "id": "8ec57050-692b-4796-95c6-5ff0e1667d4b",
   "metadata": {},
   "source": [
    "This a simple arithmetic expressiopnn to multiply then add integers"
   ]
  },
  {
   "cell_type": "code",
   "execution_count": 2,
   "id": "65086363-71e5-4f19-b225-9c49ab520f8e",
   "metadata": {},
   "outputs": [
    {
     "data": {
      "text/plain": [
       "17"
      ]
     },
     "execution_count": 2,
     "metadata": {},
     "output_type": "execute_result"
    }
   ],
   "source": [
    "(3*4) + 5"
   ]
  },
  {
   "cell_type": "markdown",
   "id": "9f2fd0e4-5603-4eaa-83e8-dea83e7cd955",
   "metadata": {},
   "source": [
    "This will convert 200 minutes to hours by dividing by 60\n"
   ]
  },
  {
   "cell_type": "code",
   "execution_count": 4,
   "id": "b0270b4c-40a0-4377-b5a6-b916210e4d76",
   "metadata": {},
   "outputs": [
    {
     "data": {
      "text/plain": [
       "3.3333333333333335"
      ]
     },
     "execution_count": 4,
     "metadata": {},
     "output_type": "execute_result"
    }
   ],
   "source": [
    "200/60"
   ]
  },
  {
   "cell_type": "markdown",
   "id": "d36f9b73-28bb-4cb5-be8b-2e5cdf8c5068",
   "metadata": {},
   "source": [
    "## Author\n",
    "**Jamar Forde**"
   ]
  }
 ],
 "metadata": {
  "kernelspec": {
   "display_name": "Python 3 (ipykernel)",
   "language": "python",
   "name": "python3"
  },
  "language_info": {
   "codemirror_mode": {
    "name": "ipython",
    "version": 3
   },
   "file_extension": ".py",
   "mimetype": "text/x-python",
   "name": "python",
   "nbconvert_exporter": "python",
   "pygments_lexer": "ipython3",
   "version": "3.11.8"
  }
 },
 "nbformat": 4,
 "nbformat_minor": 5
}
